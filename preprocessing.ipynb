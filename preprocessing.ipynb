{
  "cells": [
    {
      "cell_type": "code",
      "execution_count": 14,
      "id": "f59f9892-29bf-4af3-983e-0e34084b1174",
      "metadata": {
        "id": "f59f9892-29bf-4af3-983e-0e34084b1174"
      },
      "outputs": [],
      "source": [
        "import pandas as pd\n",
        "import warnings\n",
        "warnings.filterwarnings(\"ignore\")"
      ]
    },
    {
      "attachments": {},
      "cell_type": "markdown",
      "id": "1e976f4b",
      "metadata": {},
      "source": [
        "## About Data"
      ]
    },
    {
      "attachments": {},
      "cell_type": "markdown",
      "id": "8bcf47a4",
      "metadata": {},
      "source": [
        "Twitter has become an important communication channel in times of emergency.\n",
        "The ubiquitousness of smartphones enables people to announce an emergency they’re observing in real-time. Because of this, more agencies are interested in programatically monitoring Twitter (i.e. disaster relief organizations and news agencies).\n",
        "\n",
        "But, it’s not always clear whether a person’s words are actually announcing a disaster. Take this example:\n",
        "\n",
        "<img src=\"assets/tweet_screenshot.png\" alt=\"Drawing\" style=\"width: 200px;\"/>\n",
        "\n",
        "The author explicitly uses the word “ABLAZE” but means it metaphorically. This is clear to a human right away, especially with the visual aid. But it’s less clear to a machine.\n",
        "\n",
        "-------\n",
        "Columns: \n",
        "\n",
        "id - a unique identifier for each tweet\n",
        "\n",
        "text - the text of the tweet\n",
        "\n",
        "location - the location the tweet was sent from (may be blank)\n",
        "\n",
        "keyword - a particular keyword from the tweet (may be blank)\n",
        "\n",
        "target - in train.csv only, this denotes whether a tweet is about a real disaster (1) or not (0)\n"
      ]
    },
    {
      "attachments": {},
      "cell_type": "markdown",
      "id": "7cb3c716",
      "metadata": {},
      "source": [
        "## Data Prepration"
      ]
    },
    {
      "attachments": {},
      "cell_type": "markdown",
      "id": "4090f26d",
      "metadata": {},
      "source": [
        "### Reading data"
      ]
    },
    {
      "cell_type": "code",
      "execution_count": 15,
      "id": "c993f2ad",
      "metadata": {},
      "outputs": [],
      "source": [
        "df_train = pd.read_csv(r'data\\train.csv')\n",
        "test = pd.read_csv(r'data\\test.csv')"
      ]
    },
    {
      "attachments": {},
      "cell_type": "markdown",
      "id": "2c29298f",
      "metadata": {},
      "source": [
        "### Investigating the dataset"
      ]
    },
    {
      "cell_type": "code",
      "execution_count": 16,
      "id": "cb2d2f63-ec4c-472f-8c43-7437bb0c02c6",
      "metadata": {
        "colab": {
          "base_uri": "https://localhost:8080/",
          "height": 1000
        },
        "id": "cb2d2f63-ec4c-472f-8c43-7437bb0c02c6",
        "outputId": "deafc6dd-14ee-4ecf-85b6-548a64443809"
      },
      "outputs": [
        {
          "name": "stdout",
          "output_type": "stream",
          "text": [
            "____________shape_____________\n"
          ]
        },
        {
          "data": {
            "text/plain": [
              "(7613, 5)"
            ]
          },
          "metadata": {},
          "output_type": "display_data"
        },
        {
          "name": "stdout",
          "output_type": "stream",
          "text": [
            "_____________head_____________\n"
          ]
        },
        {
          "data": {
            "text/html": [
              "<style type=\"text/css\">\n",
              "#T_5ef47_row0_col0, #T_5ef47_row0_col4, #T_5ef47_row1_col4, #T_5ef47_row2_col4, #T_5ef47_row3_col4, #T_5ef47_row4_col4 {\n",
              "  background-color: #f7fbff;\n",
              "  color: #000000;\n",
              "}\n",
              "#T_5ef47_row1_col0 {\n",
              "  background-color: #6aaed6;\n",
              "  color: #f1f1f1;\n",
              "}\n",
              "#T_5ef47_row2_col0 {\n",
              "  background-color: #3787c0;\n",
              "  color: #f1f1f1;\n",
              "}\n",
              "#T_5ef47_row3_col0 {\n",
              "  background-color: #105ba4;\n",
              "  color: #f1f1f1;\n",
              "}\n",
              "#T_5ef47_row4_col0 {\n",
              "  background-color: #08306b;\n",
              "  color: #f1f1f1;\n",
              "}\n",
              "</style>\n",
              "<table id=\"T_5ef47\">\n",
              "  <thead>\n",
              "    <tr>\n",
              "      <th class=\"blank level0\" >&nbsp;</th>\n",
              "      <th id=\"T_5ef47_level0_col0\" class=\"col_heading level0 col0\" >id</th>\n",
              "      <th id=\"T_5ef47_level0_col1\" class=\"col_heading level0 col1\" >keyword</th>\n",
              "      <th id=\"T_5ef47_level0_col2\" class=\"col_heading level0 col2\" >location</th>\n",
              "      <th id=\"T_5ef47_level0_col3\" class=\"col_heading level0 col3\" >text</th>\n",
              "      <th id=\"T_5ef47_level0_col4\" class=\"col_heading level0 col4\" >target</th>\n",
              "    </tr>\n",
              "  </thead>\n",
              "  <tbody>\n",
              "    <tr>\n",
              "      <th id=\"T_5ef47_level0_row0\" class=\"row_heading level0 row0\" >0</th>\n",
              "      <td id=\"T_5ef47_row0_col0\" class=\"data row0 col0\" >1</td>\n",
              "      <td id=\"T_5ef47_row0_col1\" class=\"data row0 col1\" >nan</td>\n",
              "      <td id=\"T_5ef47_row0_col2\" class=\"data row0 col2\" >nan</td>\n",
              "      <td id=\"T_5ef47_row0_col3\" class=\"data row0 col3\" >Our Deeds are the Reason of this #earthquake May ALLAH Forgive us all</td>\n",
              "      <td id=\"T_5ef47_row0_col4\" class=\"data row0 col4\" >1</td>\n",
              "    </tr>\n",
              "    <tr>\n",
              "      <th id=\"T_5ef47_level0_row1\" class=\"row_heading level0 row1\" >1</th>\n",
              "      <td id=\"T_5ef47_row1_col0\" class=\"data row1 col0\" >4</td>\n",
              "      <td id=\"T_5ef47_row1_col1\" class=\"data row1 col1\" >nan</td>\n",
              "      <td id=\"T_5ef47_row1_col2\" class=\"data row1 col2\" >nan</td>\n",
              "      <td id=\"T_5ef47_row1_col3\" class=\"data row1 col3\" >Forest fire near La Ronge Sask. Canada</td>\n",
              "      <td id=\"T_5ef47_row1_col4\" class=\"data row1 col4\" >1</td>\n",
              "    </tr>\n",
              "    <tr>\n",
              "      <th id=\"T_5ef47_level0_row2\" class=\"row_heading level0 row2\" >2</th>\n",
              "      <td id=\"T_5ef47_row2_col0\" class=\"data row2 col0\" >5</td>\n",
              "      <td id=\"T_5ef47_row2_col1\" class=\"data row2 col1\" >nan</td>\n",
              "      <td id=\"T_5ef47_row2_col2\" class=\"data row2 col2\" >nan</td>\n",
              "      <td id=\"T_5ef47_row2_col3\" class=\"data row2 col3\" >All residents asked to 'shelter in place' are being notified by officers. No other evacuation or shelter in place orders are expected</td>\n",
              "      <td id=\"T_5ef47_row2_col4\" class=\"data row2 col4\" >1</td>\n",
              "    </tr>\n",
              "    <tr>\n",
              "      <th id=\"T_5ef47_level0_row3\" class=\"row_heading level0 row3\" >3</th>\n",
              "      <td id=\"T_5ef47_row3_col0\" class=\"data row3 col0\" >6</td>\n",
              "      <td id=\"T_5ef47_row3_col1\" class=\"data row3 col1\" >nan</td>\n",
              "      <td id=\"T_5ef47_row3_col2\" class=\"data row3 col2\" >nan</td>\n",
              "      <td id=\"T_5ef47_row3_col3\" class=\"data row3 col3\" >13,000 people receive #wildfires evacuation orders in California </td>\n",
              "      <td id=\"T_5ef47_row3_col4\" class=\"data row3 col4\" >1</td>\n",
              "    </tr>\n",
              "    <tr>\n",
              "      <th id=\"T_5ef47_level0_row4\" class=\"row_heading level0 row4\" >4</th>\n",
              "      <td id=\"T_5ef47_row4_col0\" class=\"data row4 col0\" >7</td>\n",
              "      <td id=\"T_5ef47_row4_col1\" class=\"data row4 col1\" >nan</td>\n",
              "      <td id=\"T_5ef47_row4_col2\" class=\"data row4 col2\" >nan</td>\n",
              "      <td id=\"T_5ef47_row4_col3\" class=\"data row4 col3\" >Just got sent this photo from Ruby #Alaska as smoke from #wildfires pours into a school </td>\n",
              "      <td id=\"T_5ef47_row4_col4\" class=\"data row4 col4\" >1</td>\n",
              "    </tr>\n",
              "  </tbody>\n",
              "</table>\n"
            ],
            "text/plain": [
              "<pandas.io.formats.style.Styler at 0x1f477fb94d0>"
            ]
          },
          "metadata": {},
          "output_type": "display_data"
        },
        {
          "name": "stdout",
          "output_type": "stream",
          "text": [
            "_____________tail_____________\n"
          ]
        },
        {
          "data": {
            "text/html": [
              "<style type=\"text/css\">\n",
              "#T_4fc69_row0_col0, #T_4fc69_row0_col4, #T_4fc69_row1_col4, #T_4fc69_row2_col4, #T_4fc69_row3_col4, #T_4fc69_row4_col4 {\n",
              "  background-color: #f7fbff;\n",
              "  color: #000000;\n",
              "}\n",
              "#T_4fc69_row1_col0 {\n",
              "  background-color: #c6dbef;\n",
              "  color: #000000;\n",
              "}\n",
              "#T_4fc69_row2_col0 {\n",
              "  background-color: #6aaed6;\n",
              "  color: #f1f1f1;\n",
              "}\n",
              "#T_4fc69_row3_col0 {\n",
              "  background-color: #2070b4;\n",
              "  color: #f1f1f1;\n",
              "}\n",
              "#T_4fc69_row4_col0 {\n",
              "  background-color: #08306b;\n",
              "  color: #f1f1f1;\n",
              "}\n",
              "</style>\n",
              "<table id=\"T_4fc69\">\n",
              "  <thead>\n",
              "    <tr>\n",
              "      <th class=\"blank level0\" >&nbsp;</th>\n",
              "      <th id=\"T_4fc69_level0_col0\" class=\"col_heading level0 col0\" >id</th>\n",
              "      <th id=\"T_4fc69_level0_col1\" class=\"col_heading level0 col1\" >keyword</th>\n",
              "      <th id=\"T_4fc69_level0_col2\" class=\"col_heading level0 col2\" >location</th>\n",
              "      <th id=\"T_4fc69_level0_col3\" class=\"col_heading level0 col3\" >text</th>\n",
              "      <th id=\"T_4fc69_level0_col4\" class=\"col_heading level0 col4\" >target</th>\n",
              "    </tr>\n",
              "  </thead>\n",
              "  <tbody>\n",
              "    <tr>\n",
              "      <th id=\"T_4fc69_level0_row0\" class=\"row_heading level0 row0\" >7608</th>\n",
              "      <td id=\"T_4fc69_row0_col0\" class=\"data row0 col0\" >10869</td>\n",
              "      <td id=\"T_4fc69_row0_col1\" class=\"data row0 col1\" >nan</td>\n",
              "      <td id=\"T_4fc69_row0_col2\" class=\"data row0 col2\" >nan</td>\n",
              "      <td id=\"T_4fc69_row0_col3\" class=\"data row0 col3\" >Two giant cranes holding a bridge collapse into nearby homes http://t.co/STfMbbZFB5</td>\n",
              "      <td id=\"T_4fc69_row0_col4\" class=\"data row0 col4\" >1</td>\n",
              "    </tr>\n",
              "    <tr>\n",
              "      <th id=\"T_4fc69_level0_row1\" class=\"row_heading level0 row1\" >7609</th>\n",
              "      <td id=\"T_4fc69_row1_col0\" class=\"data row1 col0\" >10870</td>\n",
              "      <td id=\"T_4fc69_row1_col1\" class=\"data row1 col1\" >nan</td>\n",
              "      <td id=\"T_4fc69_row1_col2\" class=\"data row1 col2\" >nan</td>\n",
              "      <td id=\"T_4fc69_row1_col3\" class=\"data row1 col3\" >@aria_ahrary @TheTawniest The out of control wild fires in California even in the Northern part of the state. Very troubling.</td>\n",
              "      <td id=\"T_4fc69_row1_col4\" class=\"data row1 col4\" >1</td>\n",
              "    </tr>\n",
              "    <tr>\n",
              "      <th id=\"T_4fc69_level0_row2\" class=\"row_heading level0 row2\" >7610</th>\n",
              "      <td id=\"T_4fc69_row2_col0\" class=\"data row2 col0\" >10871</td>\n",
              "      <td id=\"T_4fc69_row2_col1\" class=\"data row2 col1\" >nan</td>\n",
              "      <td id=\"T_4fc69_row2_col2\" class=\"data row2 col2\" >nan</td>\n",
              "      <td id=\"T_4fc69_row2_col3\" class=\"data row2 col3\" >M1.94 [01:04 UTC]?5km S of Volcano Hawaii. http://t.co/zDtoyd8EbJ</td>\n",
              "      <td id=\"T_4fc69_row2_col4\" class=\"data row2 col4\" >1</td>\n",
              "    </tr>\n",
              "    <tr>\n",
              "      <th id=\"T_4fc69_level0_row3\" class=\"row_heading level0 row3\" >7611</th>\n",
              "      <td id=\"T_4fc69_row3_col0\" class=\"data row3 col0\" >10872</td>\n",
              "      <td id=\"T_4fc69_row3_col1\" class=\"data row3 col1\" >nan</td>\n",
              "      <td id=\"T_4fc69_row3_col2\" class=\"data row3 col2\" >nan</td>\n",
              "      <td id=\"T_4fc69_row3_col3\" class=\"data row3 col3\" >Police investigating after an e-bike collided with a car in Little Portugal. E-bike rider suffered serious non-life threatening injuries.</td>\n",
              "      <td id=\"T_4fc69_row3_col4\" class=\"data row3 col4\" >1</td>\n",
              "    </tr>\n",
              "    <tr>\n",
              "      <th id=\"T_4fc69_level0_row4\" class=\"row_heading level0 row4\" >7612</th>\n",
              "      <td id=\"T_4fc69_row4_col0\" class=\"data row4 col0\" >10873</td>\n",
              "      <td id=\"T_4fc69_row4_col1\" class=\"data row4 col1\" >nan</td>\n",
              "      <td id=\"T_4fc69_row4_col2\" class=\"data row4 col2\" >nan</td>\n",
              "      <td id=\"T_4fc69_row4_col3\" class=\"data row4 col3\" >The Latest: More Homes Razed by Northern California Wildfire - ABC News http://t.co/YmY4rSkQ3d</td>\n",
              "      <td id=\"T_4fc69_row4_col4\" class=\"data row4 col4\" >1</td>\n",
              "    </tr>\n",
              "  </tbody>\n",
              "</table>\n"
            ],
            "text/plain": [
              "<pandas.io.formats.style.Styler at 0x1f473a5dc10>"
            ]
          },
          "metadata": {},
          "output_type": "display_data"
        },
        {
          "name": "stdout",
          "output_type": "stream",
          "text": [
            "_____________info_____________\n",
            "\n",
            "<class 'pandas.core.frame.DataFrame'>\n",
            "RangeIndex: 7613 entries, 0 to 7612\n",
            "Data columns (total 5 columns):\n",
            " #   Column    Non-Null Count  Dtype \n",
            "---  ------    --------------  ----- \n",
            " 0   id        7613 non-null   int64 \n",
            " 1   keyword   7552 non-null   object\n",
            " 2   location  5080 non-null   object\n",
            " 3   text      7613 non-null   object\n",
            " 4   target    7613 non-null   int64 \n",
            "dtypes: int64(2), object(3)\n",
            "memory usage: 297.5+ KB\n"
          ]
        },
        {
          "data": {
            "text/plain": [
              "None"
            ]
          },
          "metadata": {},
          "output_type": "display_data"
        },
        {
          "name": "stdout",
          "output_type": "stream",
          "text": [
            "_____describe_continuous______\n"
          ]
        },
        {
          "data": {
            "text/html": [
              "<style type=\"text/css\">\n",
              "#T_f9ee1_row0_col0, #T_f9ee1_row1_col0, #T_f9ee1_row1_col1, #T_f9ee1_row1_col2, #T_f9ee1_row1_col3, #T_f9ee1_row1_col4, #T_f9ee1_row1_col5, #T_f9ee1_row1_col6, #T_f9ee1_row1_col7 {\n",
              "  background-color: #f7fbff;\n",
              "  color: #000000;\n",
              "}\n",
              "#T_f9ee1_row0_col1, #T_f9ee1_row0_col2, #T_f9ee1_row0_col3, #T_f9ee1_row0_col4, #T_f9ee1_row0_col5, #T_f9ee1_row0_col6, #T_f9ee1_row0_col7 {\n",
              "  background-color: #08306b;\n",
              "  color: #f1f1f1;\n",
              "}\n",
              "</style>\n",
              "<table id=\"T_f9ee1\">\n",
              "  <thead>\n",
              "    <tr>\n",
              "      <th class=\"blank level0\" >&nbsp;</th>\n",
              "      <th id=\"T_f9ee1_level0_col0\" class=\"col_heading level0 col0\" >count</th>\n",
              "      <th id=\"T_f9ee1_level0_col1\" class=\"col_heading level0 col1\" >mean</th>\n",
              "      <th id=\"T_f9ee1_level0_col2\" class=\"col_heading level0 col2\" >std</th>\n",
              "      <th id=\"T_f9ee1_level0_col3\" class=\"col_heading level0 col3\" >min</th>\n",
              "      <th id=\"T_f9ee1_level0_col4\" class=\"col_heading level0 col4\" >25%</th>\n",
              "      <th id=\"T_f9ee1_level0_col5\" class=\"col_heading level0 col5\" >50%</th>\n",
              "      <th id=\"T_f9ee1_level0_col6\" class=\"col_heading level0 col6\" >75%</th>\n",
              "      <th id=\"T_f9ee1_level0_col7\" class=\"col_heading level0 col7\" >max</th>\n",
              "    </tr>\n",
              "  </thead>\n",
              "  <tbody>\n",
              "    <tr>\n",
              "      <th id=\"T_f9ee1_level0_row0\" class=\"row_heading level0 row0\" >id</th>\n",
              "      <td id=\"T_f9ee1_row0_col0\" class=\"data row0 col0\" >7613.000000</td>\n",
              "      <td id=\"T_f9ee1_row0_col1\" class=\"data row0 col1\" >5441.934848</td>\n",
              "      <td id=\"T_f9ee1_row0_col2\" class=\"data row0 col2\" >3137.116090</td>\n",
              "      <td id=\"T_f9ee1_row0_col3\" class=\"data row0 col3\" >1.000000</td>\n",
              "      <td id=\"T_f9ee1_row0_col4\" class=\"data row0 col4\" >2734.000000</td>\n",
              "      <td id=\"T_f9ee1_row0_col5\" class=\"data row0 col5\" >5408.000000</td>\n",
              "      <td id=\"T_f9ee1_row0_col6\" class=\"data row0 col6\" >8146.000000</td>\n",
              "      <td id=\"T_f9ee1_row0_col7\" class=\"data row0 col7\" >10873.000000</td>\n",
              "    </tr>\n",
              "    <tr>\n",
              "      <th id=\"T_f9ee1_level0_row1\" class=\"row_heading level0 row1\" >target</th>\n",
              "      <td id=\"T_f9ee1_row1_col0\" class=\"data row1 col0\" >7613.000000</td>\n",
              "      <td id=\"T_f9ee1_row1_col1\" class=\"data row1 col1\" >0.429660</td>\n",
              "      <td id=\"T_f9ee1_row1_col2\" class=\"data row1 col2\" >0.495060</td>\n",
              "      <td id=\"T_f9ee1_row1_col3\" class=\"data row1 col3\" >0.000000</td>\n",
              "      <td id=\"T_f9ee1_row1_col4\" class=\"data row1 col4\" >0.000000</td>\n",
              "      <td id=\"T_f9ee1_row1_col5\" class=\"data row1 col5\" >0.000000</td>\n",
              "      <td id=\"T_f9ee1_row1_col6\" class=\"data row1 col6\" >1.000000</td>\n",
              "      <td id=\"T_f9ee1_row1_col7\" class=\"data row1 col7\" >1.000000</td>\n",
              "    </tr>\n",
              "  </tbody>\n",
              "</table>\n"
            ],
            "text/plain": [
              "<pandas.io.formats.style.Styler at 0x1f477f23b50>"
            ]
          },
          "metadata": {},
          "output_type": "display_data"
        },
        {
          "name": "stdout",
          "output_type": "stream",
          "text": [
            "_____describe_categorical_____\n"
          ]
        },
        {
          "data": {
            "text/html": [
              "<style type=\"text/css\">\n",
              "</style>\n",
              "<table id=\"T_b1a6c\">\n",
              "  <thead>\n",
              "    <tr>\n",
              "      <th class=\"blank level0\" >&nbsp;</th>\n",
              "      <th id=\"T_b1a6c_level0_col0\" class=\"col_heading level0 col0\" >count</th>\n",
              "      <th id=\"T_b1a6c_level0_col1\" class=\"col_heading level0 col1\" >unique</th>\n",
              "      <th id=\"T_b1a6c_level0_col2\" class=\"col_heading level0 col2\" >top</th>\n",
              "      <th id=\"T_b1a6c_level0_col3\" class=\"col_heading level0 col3\" >freq</th>\n",
              "    </tr>\n",
              "  </thead>\n",
              "  <tbody>\n",
              "    <tr>\n",
              "      <th id=\"T_b1a6c_level0_row0\" class=\"row_heading level0 row0\" >keyword</th>\n",
              "      <td id=\"T_b1a6c_row0_col0\" class=\"data row0 col0\" >7552</td>\n",
              "      <td id=\"T_b1a6c_row0_col1\" class=\"data row0 col1\" >221</td>\n",
              "      <td id=\"T_b1a6c_row0_col2\" class=\"data row0 col2\" >fatalities</td>\n",
              "      <td id=\"T_b1a6c_row0_col3\" class=\"data row0 col3\" >45</td>\n",
              "    </tr>\n",
              "    <tr>\n",
              "      <th id=\"T_b1a6c_level0_row1\" class=\"row_heading level0 row1\" >location</th>\n",
              "      <td id=\"T_b1a6c_row1_col0\" class=\"data row1 col0\" >5080</td>\n",
              "      <td id=\"T_b1a6c_row1_col1\" class=\"data row1 col1\" >3341</td>\n",
              "      <td id=\"T_b1a6c_row1_col2\" class=\"data row1 col2\" >USA</td>\n",
              "      <td id=\"T_b1a6c_row1_col3\" class=\"data row1 col3\" >104</td>\n",
              "    </tr>\n",
              "    <tr>\n",
              "      <th id=\"T_b1a6c_level0_row2\" class=\"row_heading level0 row2\" >text</th>\n",
              "      <td id=\"T_b1a6c_row2_col0\" class=\"data row2 col0\" >7613</td>\n",
              "      <td id=\"T_b1a6c_row2_col1\" class=\"data row2 col1\" >7503</td>\n",
              "      <td id=\"T_b1a6c_row2_col2\" class=\"data row2 col2\" >11-Year-Old Boy Charged With Manslaughter of Toddler: Report: An 11-year-old boy has been charged with manslaughter over the fatal sh...</td>\n",
              "      <td id=\"T_b1a6c_row2_col3\" class=\"data row2 col3\" >10</td>\n",
              "    </tr>\n",
              "  </tbody>\n",
              "</table>\n"
            ],
            "text/plain": [
              "<pandas.io.formats.style.Styler at 0x1f477f56890>"
            ]
          },
          "metadata": {},
          "output_type": "display_data"
        },
        {
          "name": "stdout",
          "output_type": "stream",
          "text": [
            "_____null_values_percent______\n"
          ]
        },
        {
          "data": {
            "text/plain": [
              "location    33.272035\n",
              "keyword      0.801261\n",
              "id           0.000000\n",
              "text         0.000000\n",
              "target       0.000000\n",
              "dtype: float64"
            ]
          },
          "metadata": {},
          "output_type": "display_data"
        }
      ],
      "source": [
        "def background_color(value):\n",
        "    if isinstance(value, str):\n",
        "        return 'background-color: #a6c0ed'\n",
        "    return ''\n",
        "\n",
        "def show_df(df_train):\n",
        "    print('shape'.center(30,'_'))\n",
        "    display(df_train.shape)\n",
        "\n",
        "    print('head'.center(30,'_'))\n",
        "    display(df_train.head().style.background_gradient(cmap='Blues'))\n",
        "\n",
        "    print('tail'.center(30,'_'))\n",
        "    display(df_train.tail().style.background_gradient(cmap='Blues'))\n",
        "\n",
        "    print('info'.center(30,'_')+'\\n')\n",
        "    display(df_train.info())\n",
        "\n",
        "    print('describe_continuous'.center(30,'_'))\n",
        "    display(df_train.describe().T.style.background_gradient(cmap = 'Blues'))\n",
        "\n",
        "    print('describe_categorical'.center(30,'_'))\n",
        "    display(df_train.describe(include='object').T.style.background_gradient(cmap='Blues'))\n",
        "\n",
        "    print('null_values_percent'.center(30,'_'))\n",
        "    display((df_train.isna().sum() / len(df_train) * 100).sort_values(ascending=False))\n",
        "show_df(df_train)"
      ]
    },
    {
      "attachments": {},
      "cell_type": "markdown",
      "id": "7a8e9dce",
      "metadata": {},
      "source": [
        "### Preprocessing"
      ]
    },
    {
      "cell_type": "code",
      "execution_count": 17,
      "id": "bb8e8183",
      "metadata": {},
      "outputs": [],
      "source": [
        "from utils.preprocessor import Preprocessor"
      ]
    },
    {
      "cell_type": "code",
      "execution_count": 18,
      "id": "356eefed",
      "metadata": {},
      "outputs": [
        {
          "name": "stderr",
          "output_type": "stream",
          "text": [
            "[nltk_data] Downloading package stopwords to\n",
            "[nltk_data]     C:\\Users\\PrinceEGY\\AppData\\Roaming\\nltk_data...\n",
            "[nltk_data]   Package stopwords is already up-to-date!\n",
            "[nltk_data] Downloading package punkt to\n",
            "[nltk_data]     C:\\Users\\PrinceEGY\\AppData\\Roaming\\nltk_data...\n",
            "[nltk_data]   Package punkt is already up-to-date!\n",
            "[nltk_data] Downloading package wordnet to\n",
            "[nltk_data]     C:\\Users\\PrinceEGY\\AppData\\Roaming\\nltk_data...\n",
            "[nltk_data]   Package wordnet is already up-to-date!\n"
          ]
        }
      ],
      "source": [
        "preprocessor = Preprocessor(\n",
        "    remove_url=True,\n",
        "    remove_punct=True,\n",
        "    remove_stopwords=True,\n",
        "    tokenize_words=True,\n",
        "    lemmatize_words=True,\n",
        ")"
      ]
    },
    {
      "attachments": {},
      "cell_type": "markdown",
      "id": "9e2c341f",
      "metadata": {},
      "source": [
        "#### Removing URL's from the dataset"
      ]
    },
    {
      "cell_type": "code",
      "execution_count": 19,
      "id": "b4f07c0e",
      "metadata": {},
      "outputs": [
        {
          "name": "stdout",
          "output_type": "stream",
          "text": [
            "Text Before:\n",
            " We always try to bring the heavy. #metal #RT http://t.co/YAo1e0xngw\n",
            "Text After:\n",
            " We always try to bring the heavy. #metal #RT \n"
          ]
        }
      ],
      "source": [
        "print(\"Text Before:\\n\", df_train.text[32])\n",
        "print(\"Text After:\\n\",preprocessor._remove_URL(df_train.text[32]))"
      ]
    },
    {
      "attachments": {},
      "cell_type": "markdown",
      "id": "154335b4",
      "metadata": {},
      "source": [
        "#### Removing punctuations from the dataset"
      ]
    },
    {
      "cell_type": "code",
      "execution_count": 20,
      "id": "60d5f3f7-e72a-4a8a-ae11-a68a35c09fa9",
      "metadata": {
        "colab": {
          "base_uri": "https://localhost:8080/",
          "height": 36
        },
        "id": "60d5f3f7-e72a-4a8a-ae11-a68a35c09fa9",
        "outputId": "8d3c2aed-bbf7-472a-a373-c3115de65e79"
      },
      "outputs": [
        {
          "data": {
            "text/plain": [
              "'!\"#$%&\\'()*+,-./:;<=>?@[\\\\]^_`{|}~'"
            ]
          },
          "execution_count": 20,
          "metadata": {},
          "output_type": "execute_result"
        }
      ],
      "source": [
        "import string\n",
        "string.punctuation"
      ]
    },
    {
      "cell_type": "code",
      "execution_count": 21,
      "id": "3f04f86b",
      "metadata": {},
      "outputs": [
        {
          "name": "stdout",
          "output_type": "stream",
          "text": [
            "Text Before:\n",
            " All residents asked to 'shelter in place' are being notified by officers. No other evacuation or shelter in place orders are expected\n",
            "Text After:\n",
            " All residents asked to shelter in place are being notified by officers No other evacuation or shelter in place orders are expected\n"
          ]
        }
      ],
      "source": [
        "print(\"Text Before:\\n\", df_train.text[2])\n",
        "print(\"Text After:\\n\", preprocessor._remove_punct(df_train.text[2]))"
      ]
    },
    {
      "attachments": {},
      "cell_type": "markdown",
      "id": "13b03b0c",
      "metadata": {},
      "source": [
        "#### Removing stop words"
      ]
    },
    {
      "cell_type": "code",
      "execution_count": 22,
      "id": "2dba0421",
      "metadata": {},
      "outputs": [
        {
          "data": {
            "text/plain": [
              "['i', 'me', 'my', 'myself', 'we', 'our', 'ours', 'ourselves', 'you', \"you're\"]"
            ]
          },
          "execution_count": 22,
          "metadata": {},
          "output_type": "execute_result"
        }
      ],
      "source": [
        "from nltk.corpus import stopwords\n",
        "# Stop words example\n",
        "stopwords.words(\"english\")[:10]"
      ]
    },
    {
      "cell_type": "code",
      "execution_count": 23,
      "id": "d70ce792",
      "metadata": {},
      "outputs": [
        {
          "name": "stdout",
          "output_type": "stream",
          "text": [
            "Text Before:\n",
            " All residents asked to 'shelter in place' are being notified by officers. No other evacuation or shelter in place orders are expected\n",
            "Text After:\n",
            " residents asked 'shelter place' notified officers. evacuation shelter place orders expected\n"
          ]
        }
      ],
      "source": [
        "print(\"Text Before:\\n\", df_train.text[2])\n",
        "print(\"Text After:\\n\", preprocessor._remove_stopwords(df_train.text[2]))"
      ]
    },
    {
      "attachments": {},
      "cell_type": "markdown",
      "id": "9bc9d850",
      "metadata": {},
      "source": [
        "### Now let's apply our cleaning methods"
      ]
    },
    {
      "cell_type": "code",
      "execution_count": 24,
      "id": "746c6fc2",
      "metadata": {},
      "outputs": [
        {
          "data": {
            "text/plain": [
              "0            deeds reason earthquake may allah forgive us\n",
              "1                   forest fire near la ronge sask canada\n",
              "2       residents asked shelter place notified officer...\n",
              "3       13000 people receive wildfires evacuation orde...\n",
              "4       got sent photo ruby alaska smoke wildfires pou...\n",
              "                              ...                        \n",
              "7608    two giant cranes holding bridge collapse nearb...\n",
              "7609    ariaahrary thetawniest control wild fires cali...\n",
              "7610                      m194 0104 utc5km volcano hawaii\n",
              "7611    police investigating ebike collided car little...\n",
              "7612    latest homes razed northern california wildfir...\n",
              "Name: text, Length: 7613, dtype: object"
            ]
          },
          "execution_count": 24,
          "metadata": {},
          "output_type": "execute_result"
        }
      ],
      "source": [
        "df_train['text'] = df_train.text.map(preprocessor._remove_URL)\n",
        "df_train['text'] = df_train.text.map(preprocessor._remove_punct)\n",
        "df_train['text'] = df_train.text.map(preprocessor._remove_stopwords)\n",
        "df_train['text']"
      ]
    },
    {
      "attachments": {},
      "cell_type": "markdown",
      "id": "02628923",
      "metadata": {},
      "source": [
        "-------------"
      ]
    },
    {
      "attachments": {},
      "cell_type": "markdown",
      "id": "824eb9bb",
      "metadata": {},
      "source": [
        "### Tokenization"
      ]
    },
    {
      "cell_type": "code",
      "execution_count": 25,
      "id": "8373c67b",
      "metadata": {},
      "outputs": [],
      "source": [
        "df_train[\"text\"] = df_train.text.map(preprocessor._tokenize_words)\n",
        "df_train.text.head()"
      ]
    },
    {
      "attachments": {},
      "cell_type": "markdown",
      "id": "b108fc86",
      "metadata": {},
      "source": [
        "### Lemmatizing the tokens"
      ]
    },
    {
      "cell_type": "code",
      "execution_count": null,
      "id": "fe49af82",
      "metadata": {},
      "outputs": [
        {
          "data": {
            "text/plain": [
              "0    [deed, reason, earthquake, may, allah, forgive...\n",
              "1        [forest, fire, near, la, ronge, sask, canada]\n",
              "2    [resident, asked, shelter, place, notified, of...\n",
              "3    [13000, people, receive, wildfire, evacuation,...\n",
              "4    [got, sent, photo, ruby, alaska, smoke, wildfi...\n",
              "Name: text, dtype: object"
            ]
          },
          "execution_count": 13,
          "metadata": {},
          "output_type": "execute_result"
        }
      ],
      "source": [
        "df_train[\"text\"] = df_train.text.map(preprocessor._lemmatize_words)\n",
        "df_train.text.head()"
      ]
    }
  ],
  "metadata": {
    "colab": {
      "provenance": []
    },
    "kernelspec": {
      "display_name": "base",
      "language": "python",
      "name": "python3"
    },
    "language_info": {
      "codemirror_mode": {
        "name": "ipython",
        "version": 3
      },
      "file_extension": ".py",
      "mimetype": "text/x-python",
      "name": "python",
      "nbconvert_exporter": "python",
      "pygments_lexer": "ipython3",
      "version": "3.11.5"
    },
    "vscode": {
      "interpreter": {
        "hash": "1ad7b6933dbeb3066655e7b4b1019487631d0edeeb6c28cdb2f62ca1713ab7c6"
      }
    }
  },
  "nbformat": 4,
  "nbformat_minor": 5
}
